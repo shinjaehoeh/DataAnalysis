{
 "cells": [
  {
   "cell_type": "code",
   "execution_count": 32,
   "source": [
    "from selenium import webdriver\r\n",
    "from bs4 import BeautifulSoup\r\n",
    "import time\r\n",
    "import pandas as pd\r\n",
    "from urllib.parse import quote"
   ],
   "outputs": [],
   "metadata": {}
  },
  {
   "cell_type": "code",
   "execution_count": 33,
   "source": [
    "chromedriver = 'C:\\\\MyWorkspace\\\\02.DataAnalysis\\\\05.web\\\\chromedriver.exe'\r\n",
    "driver = webdriver.Chrome(chromedriver)"
   ],
   "outputs": [],
   "metadata": {}
  },
  {
   "cell_type": "code",
   "execution_count": 34,
   "source": [
    "base_url = 'https://search.naver.com/search.naver?query='\r\n",
    "url = base_url + quote('스마트폰') + '&nso=&where=blog&sm=tab_opt'\r\n",
    "driver.get(url)"
   ],
   "outputs": [],
   "metadata": {}
  },
  {
   "cell_type": "code",
   "execution_count": 44,
   "source": [
    "# 페이지 내려서 데이터 확보\r\n",
    "from selenium.webdriver.common.keys import Keys\r\n",
    "\r\n",
    "body = driver.find_element_by_tag_name('body')\r\n",
    "for i in range(100):\r\n",
    "    body.send_keys(Keys.PAGE_DOWN)\r\n",
    "    time.sleep(1)"
   ],
   "outputs": [],
   "metadata": {}
  },
  {
   "cell_type": "code",
   "execution_count": 45,
   "source": [
    "html = driver.page_source\r\n",
    "soup = BeautifulSoup(html, 'html.parser')"
   ],
   "outputs": [],
   "metadata": {}
  },
  {
   "cell_type": "code",
   "execution_count": 46,
   "source": [
    "lis = soup.select('.total_wrap.api_ani_send')\r\n",
    "len(lis)"
   ],
   "outputs": [
    {
     "output_type": "execute_result",
     "data": {
      "text/plain": [
       "472"
      ]
     },
     "metadata": {},
     "execution_count": 46
    }
   ],
   "metadata": {}
  },
  {
   "cell_type": "code",
   "execution_count": 47,
   "source": [
    "li = lis[0]\r\n",
    "title = li.select_one('.api_txt_lines.total_tit').get_text()\r\n",
    "content = li.select_one('.api_txt_lines.dsc_txt').get_text()\r\n",
    "date = li.select_one('.sub_time.sub_txt').get_text()\r\n",
    "\r\n",
    "title, date, content"
   ],
   "outputs": [
    {
     "output_type": "execute_result",
     "data": {
      "text/plain": [
       "('갤럭시S부터 갤럭시S21까지 삼성 스마트폰 역사톺아보기',\n",
       " '2021.03.17.',\n",
       " '갤럭시S부터 갤럭시S21까지 삼성 스마트폰 역사 톺아보기 최근 갤럭시S 폰들을... 지금보면 화면도 작고 스마트하지 않아 보이지만 아이폰에 성공적으로... ')"
      ]
     },
     "metadata": {},
     "execution_count": 47
    }
   ],
   "metadata": {}
  },
  {
   "cell_type": "code",
   "execution_count": 49,
   "source": [
    "title_list, date_list, content_list = [],[],[]\r\n",
    "for i, li in enumerate(lis):\r\n",
    "    try:\r\n",
    "        title = li.select_one('.api_txt_lines.total_tit').get_text()\r\n",
    "        content = li.select_one('.api_txt_lines.dsc_txt').get_text()\r\n",
    "        date = li.select_one('.sub_time.sub_txt').get_text()\r\n",
    "\r\n",
    "        title_list.append(title)\r\n",
    "        content_list.append(content)\r\n",
    "        date_list.append(date)\r\n",
    "    except:\r\n",
    "        print(i)\r\n",
    "        continue"
   ],
   "outputs": [],
   "metadata": {}
  },
  {
   "cell_type": "code",
   "execution_count": 50,
   "source": [
    "df = pd.DataFrame({\r\n",
    "    'title':title_list, 'content':content_list\r\n",
    "})\r\n",
    "df.head()"
   ],
   "outputs": [
    {
     "output_type": "execute_result",
     "data": {
      "text/plain": [
       "                              title  \\\n",
       "0    갤럭시S부터 갤럭시S21까지 삼성 스마트폰 역사톺아보기   \n",
       "1  LG 모바일 사업 철수 발표. 스마트폰, 피쳐폰 시장 포기   \n",
       "2        휴대전화 전쟁 2라운드는 '달리는 스마트폰'에서   \n",
       "3         [스마트폰] 삼성 갤럭시Z 플립3 언박싱 후기   \n",
       "4   삼성 갤럭시노트10 가격 2021년에도 매력적인 스마트폰   \n",
       "\n",
       "                                             content  \n",
       "0  갤럭시S부터 갤럭시S21까지 삼성 스마트폰 역사 톺아보기 최근 갤럭시S 폰들을......  \n",
       "1  물론 이전에 논의가 있었겠지만 말이에요 LG전자도 이에 대해 많은 고민을 했을겁니다...  \n",
       "2  샤오미는 스마트폰은 물론 각종 스마트 기기 기술력을 보유하고 있다. 기업이 보유한 ...  \n",
       "3  진짜 역대급으로 나온 스마트폰, 삼성 갤럭시Z 플립3 언박싱 후기 함께 공개된......  \n",
       "4  일상에서 스마트폰 사용량은 점점 늘어나고 있습니다. 카카오톡, 라인 같은 기본적인 ...  "
      ],
      "text/html": [
       "<div>\n",
       "<style scoped>\n",
       "    .dataframe tbody tr th:only-of-type {\n",
       "        vertical-align: middle;\n",
       "    }\n",
       "\n",
       "    .dataframe tbody tr th {\n",
       "        vertical-align: top;\n",
       "    }\n",
       "\n",
       "    .dataframe thead th {\n",
       "        text-align: right;\n",
       "    }\n",
       "</style>\n",
       "<table border=\"1\" class=\"dataframe\">\n",
       "  <thead>\n",
       "    <tr style=\"text-align: right;\">\n",
       "      <th></th>\n",
       "      <th>title</th>\n",
       "      <th>content</th>\n",
       "    </tr>\n",
       "  </thead>\n",
       "  <tbody>\n",
       "    <tr>\n",
       "      <th>0</th>\n",
       "      <td>갤럭시S부터 갤럭시S21까지 삼성 스마트폰 역사톺아보기</td>\n",
       "      <td>갤럭시S부터 갤럭시S21까지 삼성 스마트폰 역사 톺아보기 최근 갤럭시S 폰들을......</td>\n",
       "    </tr>\n",
       "    <tr>\n",
       "      <th>1</th>\n",
       "      <td>LG 모바일 사업 철수 발표. 스마트폰, 피쳐폰 시장 포기</td>\n",
       "      <td>물론 이전에 논의가 있었겠지만 말이에요 LG전자도 이에 대해 많은 고민을 했을겁니다...</td>\n",
       "    </tr>\n",
       "    <tr>\n",
       "      <th>2</th>\n",
       "      <td>휴대전화 전쟁 2라운드는 '달리는 스마트폰'에서</td>\n",
       "      <td>샤오미는 스마트폰은 물론 각종 스마트 기기 기술력을 보유하고 있다. 기업이 보유한 ...</td>\n",
       "    </tr>\n",
       "    <tr>\n",
       "      <th>3</th>\n",
       "      <td>[스마트폰] 삼성 갤럭시Z 플립3 언박싱 후기</td>\n",
       "      <td>진짜 역대급으로 나온 스마트폰, 삼성 갤럭시Z 플립3 언박싱 후기 함께 공개된......</td>\n",
       "    </tr>\n",
       "    <tr>\n",
       "      <th>4</th>\n",
       "      <td>삼성 갤럭시노트10 가격 2021년에도 매력적인 스마트폰</td>\n",
       "      <td>일상에서 스마트폰 사용량은 점점 늘어나고 있습니다. 카카오톡, 라인 같은 기본적인 ...</td>\n",
       "    </tr>\n",
       "  </tbody>\n",
       "</table>\n",
       "</div>"
      ]
     },
     "metadata": {},
     "execution_count": 50
    }
   ],
   "metadata": {}
  },
  {
   "cell_type": "code",
   "execution_count": 51,
   "source": [
    "df.to_csv('data/crawling_wordcloud.txt')"
   ],
   "outputs": [],
   "metadata": {}
  },
  {
   "cell_type": "code",
   "execution_count": 17,
   "source": [
    "driver.close()"
   ],
   "outputs": [],
   "metadata": {}
  },
  {
   "cell_type": "code",
   "execution_count": null,
   "source": [],
   "outputs": [],
   "metadata": {}
  }
 ],
 "metadata": {
  "orig_nbformat": 4,
  "language_info": {
   "name": "python",
   "version": "3.8.10",
   "mimetype": "text/x-python",
   "codemirror_mode": {
    "name": "ipython",
    "version": 3
   },
   "pygments_lexer": "ipython3",
   "nbconvert_exporter": "python",
   "file_extension": ".py"
  },
  "kernelspec": {
   "name": "python3",
   "display_name": "Python 3.8.10 64-bit ('base': conda)"
  },
  "interpreter": {
   "hash": "28d246944fa520a80a3fed0a54be27658972cc37ce61df83b88ae1be854dfa64"
  }
 },
 "nbformat": 4,
 "nbformat_minor": 2
}