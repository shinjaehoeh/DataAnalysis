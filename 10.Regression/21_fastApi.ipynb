{
  "nbformat": 4,
  "nbformat_minor": 0,
  "metadata": {
    "colab": {
      "name": "fastApi.ipynb",
      "provenance": []
    },
    "kernelspec": {
      "name": "python3",
      "display_name": "Python 3"
    },
    "language_info": {
      "name": "python"
    }
  },
  "cells": [
    {
      "cell_type": "code",
      "metadata": {
        "id": "1WtfxfnaZYl7"
      },
      "source": [
        "!pip install fastapi uvicorn > /dev/null\n",
        "!pip install nest-asyncio pyngrok > /dev/null"
      ],
      "execution_count": 1,
      "outputs": []
    },
    {
      "cell_type": "code",
      "metadata": {
        "id": "f0y2HI1gZ1cm"
      },
      "source": [
        "from typing import Optional\n",
        "from fastapi import FastAPI\n",
        "import nest_asyncio\n",
        "from pyngrok import ngrok\n",
        "import uvicorn"
      ],
      "execution_count": 2,
      "outputs": []
    },
    {
      "cell_type": "code",
      "metadata": {
        "colab": {
          "base_uri": "https://localhost:8080/"
        },
        "id": "qb2hOOZQamBp",
        "outputId": "c3db9f09-0b8a-4f19-9e00-ce90e80cffa2"
      },
      "source": [
        "app = FastAPI()\n",
        "\n",
        "@app.get('/')\n",
        "def read_root():\n",
        "    return {'hello':'world'}\n",
        "\n",
        "@app.get('/items/{item_id}')\n",
        "def read_item(item_id:int, q:Optional[str]=None):\n",
        "    return {'item_id':item_id, 'q':q}\n",
        "\n",
        "ngrok_tunnel = ngrok.connect(8000)\n",
        "print('Public URL:', ngrok_tunnel.public_url)\n",
        "nest_asyncio.apply()\n",
        "uvicorn.run(app, port=8000)"
      ],
      "execution_count": null,
      "outputs": [
        {
          "metadata": {
            "tags": null
          },
          "name": "stdout",
          "output_type": "stream",
          "text": [
            ""
          ]
        }
      ]
    },
    {
      "cell_type": "code",
      "metadata": {
        "colab": {
          "base_uri": "https://localhost:8080/"
        },
        "id": "mwc1IuobikRV",
        "outputId": "233288c7-1bc7-4637-d71f-9b34ce3d8644"
      },
      "source": [
        ""
      ],
      "execution_count": 2,
      "outputs": [
        {
          "output_type": "stream",
          "name": "stdout",
          "text": [
            "Public URL: http://c56f-35-203-186-247.ngrok.io\n"
          ]
        }
      ]
    }
  ]
}