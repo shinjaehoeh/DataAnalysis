{
  "nbformat": 4,
  "nbformat_minor": 0,
  "metadata": {
    "colab": {
      "name": "22_naverRankApi.ipynb",
      "provenance": []
    },
    "kernelspec": {
      "name": "python3",
      "display_name": "Python 3"
    },
    "language_info": {
      "name": "python"
    }
  },
  "cells": [
    {
      "cell_type": "code",
      "metadata": {
        "id": "vXv08nfyxreI"
      },
      "source": [
        "'''app.get('/movies/')\n",
        "def get_movies(top:int=10):\n",
        "    # 가져오기\n",
        "    # 리스트만들기\n",
        "\n",
        "    return 0'''"
      ],
      "execution_count": null,
      "outputs": []
    },
    {
      "cell_type": "markdown",
      "metadata": {
        "id": "qkOP_i-rmdQA"
      },
      "source": [
        "## 네이버 영화랭킹 들어가기"
      ]
    },
    {
      "cell_type": "code",
      "metadata": {
        "id": "dcJwgUPFi8N3"
      },
      "source": [
        "import requests\n",
        "from bs4 import BeautifulSoup\n",
        "import pandas as pd"
      ],
      "execution_count": 4,
      "outputs": []
    },
    {
      "cell_type": "code",
      "metadata": {
        "id": "WVIL8l4bl334"
      },
      "source": [
        "url = 'https://movie.naver.com/movie/sdb/rank/rmovie.naver'\n",
        "req = requests.get(url)\n",
        "html = req.text"
      ],
      "execution_count": null,
      "outputs": []
    },
    {
      "cell_type": "code",
      "metadata": {
        "id": "eS_IOYcTmE0E"
      },
      "source": [
        "header = {'User-Agent':\n",
        "          'Mozilla/5.0 (X11; Linux x86_64) AppleWebKit/537.36 (KHTML, like Gecko) Chrome/51.0.2704.103 Safari/537.36'}\n",
        "req = requests.get(url, headers=header)\n",
        "html = req.text"
      ],
      "execution_count": 3,
      "outputs": []
    },
    {
      "cell_type": "code",
      "metadata": {
        "id": "BGX75wAtmSnI"
      },
      "source": [
        "soup = BeautifulSoup(html, 'html.parser')"
      ],
      "execution_count": 5,
      "outputs": []
    },
    {
      "cell_type": "markdown",
      "metadata": {
        "id": "00N4tyNLoFC6"
      },
      "source": [
        "## 네이버 영화랭킹 가져오기"
      ]
    },
    {
      "cell_type": "code",
      "metadata": {
        "colab": {
          "base_uri": "https://localhost:8080/"
        },
        "id": "dylptS_rmbag",
        "outputId": "d6696280-08eb-4717-ad56-9351eb1dd19f"
      },
      "source": [
        "table = soup.select_one('table.list_ranking')\n",
        "trs = table.select('tr')\n",
        "len(trs)"
      ],
      "execution_count": 7,
      "outputs": [
        {
          "output_type": "execute_result",
          "data": {
            "text/plain": [
              "57"
            ]
          },
          "metadata": {},
          "execution_count": 7
        }
      ]
    },
    {
      "cell_type": "code",
      "metadata": {
        "colab": {
          "base_uri": "https://localhost:8080/"
        },
        "id": "D4JzOCDSo6me",
        "outputId": "56247e99-e8ca-45c8-a7b0-0fa955dda911"
      },
      "source": [
        "trs[2]"
      ],
      "execution_count": 12,
      "outputs": [
        {
          "output_type": "execute_result",
          "data": {
            "text/plain": [
              "<tr>\n",
              "<td class=\"ac\"><img alt=\"01\" height=\"13\" src=\"https://ssl.pstatic.net/imgmovie/2007/img/common/bullet_r_r01.gif\" width=\"14\"/></td>\n",
              "<td class=\"title\">\n",
              "<div class=\"tit3\">\n",
              "<a href=\"/movie/bi/mi/basic.naver?code=190320\" title=\"보이스\">보이스</a>\n",
              "</div>\n",
              "</td>\n",
              "<!-- 평점순일 때 평점 추가하기  -->\n",
              "<!----------------------------------------->\n",
              "<td class=\"ac\"><img alt=\"na\" class=\"arrow\" height=\"10\" src=\"https://ssl.pstatic.net/imgmovie/2007/img/common/icon_na_1.gif\" width=\"7\"/></td>\n",
              "<td class=\"range ac\">0</td>\n",
              "</tr>"
            ]
          },
          "metadata": {},
          "execution_count": 12
        }
      ]
    },
    {
      "cell_type": "code",
      "metadata": {
        "colab": {
          "base_uri": "https://localhost:8080/"
        },
        "id": "oSzAC88ApGPs",
        "outputId": "bafdc1f2-17ee-4761-a4e2-ace5ef8ea270"
      },
      "source": [
        "trs[55]"
      ],
      "execution_count": 16,
      "outputs": [
        {
          "output_type": "execute_result",
          "data": {
            "text/plain": [
              "<tr>\n",
              "<td class=\"ac\"><img alt=\"50\" height=\"13\" src=\"https://ssl.pstatic.net/imgmovie/2007/img/common/bullet_r_g50.gif\" width=\"14\"/></td>\n",
              "<td class=\"title\">\n",
              "<div class=\"tit3\">\n",
              "<a href=\"/movie/bi/mi/basic.naver?code=167569\" title=\"더 수어사이드 스쿼드\">더 수어사이드 스쿼드</a>\n",
              "</div>\n",
              "</td>\n",
              "<!-- 평점순일 때 평점 추가하기  -->\n",
              "<!----------------------------------------->\n",
              "<td class=\"ac\"><img alt=\"down\" class=\"arrow\" height=\"10\" src=\"https://ssl.pstatic.net/imgmovie/2007/img/common/icon_down_1.gif\" width=\"7\"/></td>\n",
              "<td class=\"range ac\">2</td>\n",
              "</tr>"
            ]
          },
          "metadata": {},
          "execution_count": 16
        }
      ]
    },
    {
      "cell_type": "code",
      "metadata": {
        "colab": {
          "base_uri": "https://localhost:8080/"
        },
        "id": "Az_4uTZHrkk2",
        "outputId": "a562457c-ed15-4d6f-9391-865d9f0ab98e"
      },
      "source": [
        "trs[0], trs[1], trs[12], trs[23], trs[34], trs[45], trs[56]"
      ],
      "execution_count": 30,
      "outputs": [
        {
          "output_type": "execute_result",
          "data": {
            "text/plain": [
              "(<tr>\n",
              " <th scope=\"col\">순위</th>\n",
              " <th scope=\"col\">영화명</th>\n",
              " <th colspan=\"2\" scope=\"col\">변동폭</th>\n",
              " </tr>,\n",
              " <tr><td class=\"blank01\" colspan=\"8\"></td></tr>,\n",
              " <tr><td class=\"line01\" colspan=\"8\"></td></tr>,\n",
              " <tr><td class=\"line01\" colspan=\"8\"></td></tr>,\n",
              " <tr><td class=\"line01\" colspan=\"8\"></td></tr>,\n",
              " <tr><td class=\"line01\" colspan=\"8\"></td></tr>,\n",
              " <tr><td class=\"blank01\" colspan=\"8\"></td></tr>)"
            ]
          },
          "metadata": {},
          "execution_count": 30
        }
      ]
    },
    {
      "cell_type": "markdown",
      "metadata": {
        "id": "h7iwQYPatQaW"
      },
      "source": [
        "## 하나 추출해보기"
      ]
    },
    {
      "cell_type": "code",
      "metadata": {
        "colab": {
          "base_uri": "https://localhost:8080/",
          "height": 36
        },
        "id": "I3J7UE1usLpi",
        "outputId": "c3b483ee-b8a6-446f-ab0d-19def7d4af77"
      },
      "source": [
        "tr = trs[2]\n",
        "tr.get_text()"
      ],
      "execution_count": 77,
      "outputs": [
        {
          "output_type": "execute_result",
          "data": {
            "application/vnd.google.colaboratory.intrinsic+json": {
              "type": "string"
            },
            "text/plain": [
              "'\\n\\n\\n\\n보이스\\n\\n\\n\\n\\n\\n0\\n'"
            ]
          },
          "metadata": {},
          "execution_count": 77
        }
      ]
    },
    {
      "cell_type": "code",
      "metadata": {
        "colab": {
          "base_uri": "https://localhost:8080/",
          "height": 36
        },
        "id": "VjwAsa4puaAh",
        "outputId": "bb54ffa4-421e-4bc9-8d2b-ea878ff26cd6"
      },
      "source": [
        "tr.get_text().split('\\n')[4]"
      ],
      "execution_count": 58,
      "outputs": [
        {
          "output_type": "execute_result",
          "data": {
            "application/vnd.google.colaboratory.intrinsic+json": {
              "type": "string"
            },
            "text/plain": [
              "'보이스'"
            ]
          },
          "metadata": {},
          "execution_count": 58
        }
      ]
    },
    {
      "cell_type": "code",
      "metadata": {
        "colab": {
          "base_uri": "https://localhost:8080/"
        },
        "id": "YttaHepiwWD6",
        "outputId": "d3768138-7af6-4316-80a9-2cd5bfe8a295"
      },
      "source": [
        "tr.select_one('.ac')"
      ],
      "execution_count": 79,
      "outputs": [
        {
          "output_type": "execute_result",
          "data": {
            "text/plain": [
              "<td class=\"ac\"><img alt=\"01\" height=\"13\" src=\"https://ssl.pstatic.net/imgmovie/2007/img/common/bullet_r_r01.gif\" width=\"14\"/></td>"
            ]
          },
          "metadata": {},
          "execution_count": 79
        }
      ]
    },
    {
      "cell_type": "code",
      "metadata": {
        "colab": {
          "base_uri": "https://localhost:8080/"
        },
        "id": "7kHd5RGuuvlw",
        "outputId": "7ace5a89-fcdf-407f-a471-f7276dce2a13"
      },
      "source": [
        "tr.select_one('.ac').select_one('img')"
      ],
      "execution_count": 80,
      "outputs": [
        {
          "output_type": "execute_result",
          "data": {
            "text/plain": [
              "<img alt=\"01\" height=\"13\" src=\"https://ssl.pstatic.net/imgmovie/2007/img/common/bullet_r_r01.gif\" width=\"14\"/>"
            ]
          },
          "metadata": {},
          "execution_count": 80
        }
      ]
    },
    {
      "cell_type": "code",
      "metadata": {
        "colab": {
          "base_uri": "https://localhost:8080/",
          "height": 36
        },
        "id": "oT62Po0Kwhmz",
        "outputId": "fd448b77-ffdd-454a-d849-65c633af47ad"
      },
      "source": [
        "str(tr.select_one('.ac').select_one('img')).split('\"')[1]"
      ],
      "execution_count": 84,
      "outputs": [
        {
          "output_type": "execute_result",
          "data": {
            "application/vnd.google.colaboratory.intrinsic+json": {
              "type": "string"
            },
            "text/plain": [
              "'01'"
            ]
          },
          "metadata": {},
          "execution_count": 84
        }
      ]
    },
    {
      "cell_type": "code",
      "metadata": {
        "colab": {
          "base_uri": "https://localhost:8080/",
          "height": 36
        },
        "id": "peTrfq4oxO-Y",
        "outputId": "8f98eac8-52eb-47b3-f0c6-dd695b9ed02a"
      },
      "source": [
        "str(tr.select_one('a')).split('\"')[1]"
      ],
      "execution_count": 93,
      "outputs": [
        {
          "output_type": "execute_result",
          "data": {
            "application/vnd.google.colaboratory.intrinsic+json": {
              "type": "string"
            },
            "text/plain": [
              "'/movie/bi/mi/basic.naver?code=190320'"
            ]
          },
          "metadata": {},
          "execution_count": 93
        }
      ]
    },
    {
      "cell_type": "code",
      "metadata": {
        "colab": {
          "base_uri": "https://localhost:8080/"
        },
        "id": "Wl-v0fZLzhEL",
        "outputId": "34e4d82b-fb78-4b33-9078-a9c0d9bb9c38"
      },
      "source": [
        "name = tr.get_text().split('\\n')[4]\n",
        "rank = str(tr.select_one('.ac').select_one('img')).split('\"')[1]\n",
        "row_link = str(tr.select_one('a')).split('\"')[1]\n",
        "link = f'https://movie.naver.com{row_link}'\n",
        "\n",
        "rank, name, link"
      ],
      "execution_count": 96,
      "outputs": [
        {
          "output_type": "execute_result",
          "data": {
            "text/plain": [
              "('01', '보이스', 'https://movie.naver.com/movie/bi/mi/basic.naver?code=190320')"
            ]
          },
          "metadata": {},
          "execution_count": 96
        }
      ]
    },
    {
      "cell_type": "code",
      "metadata": {
        "id": "jogAtDVy0Y_n"
      },
      "source": [
        ""
      ],
      "execution_count": null,
      "outputs": []
    }
  ]
}