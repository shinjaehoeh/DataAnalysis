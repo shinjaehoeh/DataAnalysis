{
 "cells": [
  {
   "cell_type": "markdown",
   "source": [
    "# 제주 핫플 - 인스타 크롤링"
   ],
   "metadata": {}
  },
  {
   "cell_type": "code",
   "execution_count": 1,
   "source": [
    "from selenium import webdriver\r\n",
    "from bs4 import BeautifulSoup\r\n",
    "import time\r\n",
    "import pandas as pd\r\n",
    "from urllib.parse import quote"
   ],
   "outputs": [],
   "metadata": {}
  },
  {
   "cell_type": "code",
   "execution_count": 2,
   "source": [
    "chromedriver = 'C:\\\\MyWorkspace\\\\02.DataAnalysis\\\\05.web\\\\chromedriver.exe'\r\n",
    "driver = webdriver.Chrome(chromedriver)"
   ],
   "outputs": [],
   "metadata": {}
  },
  {
   "cell_type": "markdown",
   "source": [
    "## 인스타그램 접속 & 로그인"
   ],
   "metadata": {}
  },
  {
   "cell_type": "code",
   "execution_count": 3,
   "source": [
    "insta_url = 'https://www.instagram.com'\r\n",
    "driver.get(insta_url)\r\n",
    "time.sleep(2)"
   ],
   "outputs": [],
   "metadata": {}
  },
  {
   "cell_type": "code",
   "execution_count": 4,
   "source": [
    "with open('stg_password.txt') as f:\r\n",
    "    password = f.read()"
   ],
   "outputs": [],
   "metadata": {}
  },
  {
   "cell_type": "code",
   "execution_count": 5,
   "source": [
    "email = 'shin.jae.ho.eh'\r\n",
    "input_email = driver.find_element_by_css_selector('._2hvTZ.pexuQ.zyHYP')\r\n",
    "input_email.clear()\r\n",
    "input_email.send_keys(email)"
   ],
   "outputs": [],
   "metadata": {}
  },
  {
   "cell_type": "code",
   "execution_count": 6,
   "source": [
    "input_pwd = driver.find_element_by_name('password')\r\n",
    "input_pwd.clear()\r\n",
    "input_pwd.send_keys(password)\r\n",
    "input_pwd.submit()\r\n",
    "time.sleep(1)"
   ],
   "outputs": [],
   "metadata": {}
  },
  {
   "cell_type": "code",
   "execution_count": 7,
   "source": [
    "try:\r\n",
    "    driver.find_element_by_css_selector('.sqdOP.yWX7d.y3zKF').click()\r\n",
    "    time.sleep(3)\r\n",
    "except:\r\n",
    "    pass"
   ],
   "outputs": [],
   "metadata": {}
  },
  {
   "cell_type": "code",
   "execution_count": 8,
   "source": [
    "try:\r\n",
    "    driver.find_element_by_css_selector('.aOOlW.HoLwm').click()\r\n",
    "    time.sleep(1)\r\n",
    "except:\r\n",
    "    pass"
   ],
   "outputs": [],
   "metadata": {}
  },
  {
   "cell_type": "markdown",
   "source": [
    "## 제주도맛집 검색"
   ],
   "metadata": {}
  },
  {
   "cell_type": "code",
   "execution_count": null,
   "source": [
    "keyword = '제주도맛집'\r\n",
    "search_url = 'https://www.instagram.com/explore/tags/'\r\n",
    "url = f'{search_url}{quote(keyword)}'"
   ],
   "outputs": [],
   "metadata": {}
  },
  {
   "cell_type": "code",
   "execution_count": null,
   "source": [
    "driver.get(url)\r\n",
    "time.sleep(8)"
   ],
   "outputs": [],
   "metadata": {}
  },
  {
   "cell_type": "markdown",
   "source": [
    "## 3. 첫 게시물 열기"
   ],
   "metadata": {}
  },
  {
   "cell_type": "code",
   "execution_count": null,
   "source": [
    "driver.find_element_by_css_selector('div._9AhH0').click()\r\n",
    "time.sleep(2)"
   ],
   "outputs": [],
   "metadata": {}
  },
  {
   "cell_type": "markdown",
   "source": [
    "## 4. 게시글 열기"
   ],
   "metadata": {}
  },
  {
   "cell_type": "code",
   "execution_count": null,
   "source": [
    "html = driver.page_source\r\n",
    "soup = BeautifulSoup(html, 'html.parser')"
   ],
   "outputs": [],
   "metadata": {}
  },
  {
   "cell_type": "code",
   "execution_count": null,
   "source": [
    "import unicodedata\r\n",
    "try:\r\n",
    "    content = soup.select_one('div.C4VMK > span').text\r\n",
    "    content = unicodedata.normalize('NFC', content)\r\n",
    "except:\r\n",
    "    content = ''\r\n",
    "content"
   ],
   "outputs": [],
   "metadata": {}
  },
  {
   "cell_type": "markdown",
   "source": [
    "## 5. 본문 내용에서 해쉬태그(#) 가져오기, '#[^\\s#,\\\\]+'"
   ],
   "metadata": {}
  },
  {
   "cell_type": "code",
   "execution_count": null,
   "source": [
    "import re\r\n",
    "tags = re.findall(r'#[^\\s#,\\\\]+', content)\r\n",
    "tags"
   ],
   "outputs": [],
   "metadata": {}
  },
  {
   "cell_type": "markdown",
   "source": [
    "## 작성일자 정보 가져오기"
   ],
   "metadata": {}
  },
  {
   "cell_type": "code",
   "execution_count": null,
   "source": [
    "date = soup.select_one('time._1o9PC.Nzb55')['datetime'][:10]\r\n",
    "date"
   ],
   "outputs": [],
   "metadata": {}
  },
  {
   "cell_type": "markdown",
   "source": [
    "## 좋아요 수 가져오기"
   ],
   "metadata": {}
  },
  {
   "cell_type": "code",
   "execution_count": null,
   "source": [
    "try:\r\n",
    "    like = soup.select_one('div.Nm9Fw').text[4:-1]\r\n",
    "except:\r\n",
    "    like = 0\r\n",
    "like"
   ],
   "outputs": [],
   "metadata": {}
  },
  {
   "cell_type": "code",
   "execution_count": null,
   "source": [
    "try:\r\n",
    "    place = soup.select('div.M30cS')[0].text\r\n",
    "    place = unicodedata.normalize('NFC', place)\r\n",
    "except:\r\n",
    "    place = ''\r\n",
    "place"
   ],
   "outputs": [],
   "metadata": {}
  },
  {
   "cell_type": "code",
   "execution_count": null,
   "source": [
    "row = [content, date, like, place, tags]\r\n",
    "row"
   ],
   "outputs": [],
   "metadata": {}
  },
  {
   "cell_type": "markdown",
   "source": [
    "## 다음 게시글"
   ],
   "metadata": {}
  },
  {
   "cell_type": "code",
   "execution_count": null,
   "source": [
    "driver.find_element_by_css_selector('a._65Bje.coreSpriteRightPaginationArrow').click()\r\n",
    "time.sleep(2)"
   ],
   "outputs": [],
   "metadata": {}
  },
  {
   "cell_type": "code",
   "execution_count": null,
   "source": [
    "# 6을 하기 위해 popup 화면을 없앰(즉, X 를 클릭)\r\n",
    "driver.find_element_by_xpath('/html/body/div[6]/div[3]/button').click()"
   ],
   "outputs": [],
   "metadata": {}
  },
  {
   "cell_type": "markdown",
   "source": [
    "## 6. 여러 게시글"
   ],
   "metadata": {}
  },
  {
   "cell_type": "code",
   "execution_count": 9,
   "source": [
    "import unicodedata\r\n",
    "import re\r\n",
    "from tqdm.notebook import tqdm"
   ],
   "outputs": [],
   "metadata": {}
  },
  {
   "cell_type": "code",
   "execution_count": 10,
   "source": [
    "def get_content(driver):\r\n",
    "    html = driver.page_source\r\n",
    "    soup = BeautifulSoup(html, 'html.parser')\r\n",
    "    \r\n",
    "    try:\r\n",
    "        content = soup.select_one('div.C4VMK > span').text\r\n",
    "        content = unicodedata.normalize('NFC', content)\r\n",
    "    except:\r\n",
    "        content = ' '\r\n",
    "    tags = re.findall(r'#[^\\s#,\\\\]+', content)\r\n",
    "    date = soup.select_one('time.FH9sR.Nzb55')['datetime'][:10]\r\n",
    "\r\n",
    "    try:\r\n",
    "        like = soup.select_one('div.Nm9Fw').text[4:-1]\r\n",
    "    except:\r\n",
    "        like = 0\r\n",
    "    try:\r\n",
    "        place = soup.select('div.M30cS')[0].text\r\n",
    "        place = unicodedata.normalize('NFC', place)\r\n",
    "    except:\r\n",
    "        place = ''\r\n",
    "\r\n",
    "    return [content, tags, date, like, place]"
   ],
   "outputs": [],
   "metadata": {}
  },
  {
   "cell_type": "code",
   "execution_count": 14,
   "source": [
    "keyword = '제주도맛집'\r\n",
    "search_url = 'https://www.instagram.com/explore/tags/'\r\n",
    "url = f'{search_url}{quote(keyword)}'\r\n",
    "driver.get(url)\r\n",
    "time.sleep(5)\r\n",
    "driver.find_element_by_css_selector('div._9AhH0').click()\r\n",
    "time.sleep(1)"
   ],
   "outputs": [],
   "metadata": {}
  },
  {
   "cell_type": "code",
   "execution_count": null,
   "source": [
    "results = []\r\n",
    "for _ in tqdm(range(200)):\r\n",
    "    try:\r\n",
    "        row = get_content(driver)\r\n",
    "        results.append(row)\r\n",
    "        driver.find_element_by_css_selector('a._65Bje.coreSpriteRightPaginationArrow').click()\r\n",
    "        time.sleep(2)\r\n",
    "    except:\r\n",
    "        time.sleep(3)\r\n",
    "        driver.find_element_by_css_selector('a._65Bje.coreSpriteRightPaginationArrow').click()\r\n",
    "        time.sleep(2)"
   ],
   "outputs": [],
   "metadata": {}
  },
  {
   "cell_type": "code",
   "execution_count": null,
   "source": [
    "df = pd.DataFrame(results, columns=['content','date','like','place','tags'])\r\n",
    "df.head()"
   ],
   "outputs": [],
   "metadata": {}
  },
  {
   "cell_type": "code",
   "execution_count": null,
   "source": [
    "df.tail()"
   ],
   "outputs": [],
   "metadata": {}
  },
  {
   "cell_type": "code",
   "execution_count": null,
   "source": [
    "df.to_csv('data/제주도맛집.csv', index=False)"
   ],
   "outputs": [],
   "metadata": {}
  },
  {
   "cell_type": "markdown",
   "source": [
    "## 여러태그 여러게시글"
   ],
   "metadata": {}
  },
  {
   "cell_type": "code",
   "execution_count": null,
   "source": [
    "for keyword in ['제주도맛집','제주맛집','제주도관광','제주여행']:\r\n",
    "    search_url = 'https://www.instagram.com/explore/tags/'\r\n",
    "    url = f'{search_url}{quote(keyword)}'\r\n",
    "    driver.get(url)\r\n",
    "    time.sleep(10)\r\n",
    "    driver.find_element_by_css_selector('div._9AhH0').click()\r\n",
    "    time.sleep(2)\r\n",
    "\r\n",
    "    results = []\r\n",
    "    for _ in tqdm(range(100)):\r\n",
    "        try:\r\n",
    "            row = get_content(driver)\r\n",
    "            results.append(row)\r\n",
    "            driver.find_element_by_css_selector('a._65Bje.coreSpriteRightPaginationArrow').click()\r\n",
    "            time.sleep(2)\r\n",
    "        except:\r\n",
    "            time.sleep(3)\r\n",
    "            driver.find_element_by_css_selector('a._65Bje.coreSpriteRightPaginationArrow').click()\r\n",
    "            time.sleep(2)\r\n",
    "\r\n",
    "    df = pd.DataFrame(results, columns=['content','date','like','place','tags'])\r\n",
    "    df.to_csv(f'data/{keyword}.csv', index=False)\r\n",
    "\r\n",
    "    driver.find_element_by_xpath('/html/body/div[6]/div[3]/button').click()\r\n",
    "    time.sleep(5)"
   ],
   "outputs": [],
   "metadata": {}
  },
  {
   "cell_type": "code",
   "execution_count": 15,
   "source": [
    "driver.close()"
   ],
   "outputs": [],
   "metadata": {}
  },
  {
   "cell_type": "markdown",
   "source": [
    "## 여러 csv 파일의 중복을 제거한 후 통합"
   ],
   "metadata": {}
  },
  {
   "cell_type": "code",
   "execution_count": 19,
   "source": [
    "jeju_df = pd.DataFrame([])\r\n",
    "for k in ['제주도맛집','제주맛집','제주도관광','제주여행']:\r\n",
    "    df = pd.read_csv(f'data/{k}.csv')\r\n",
    "    jeju_df = jeju_df.append(df)\r\n",
    "\r\n",
    "jeju_df"
   ],
   "outputs": [
    {
     "output_type": "execute_result",
     "data": {
      "text/plain": [
       "                                               content  \\\n",
       "0    .#연동 #모니카옛날통닭간판부터 맛집포스 작렬하는 찐맛집이젠 인생치킨이라고 말하기도...   \n",
       "1    <광고>섭지코지에서 한끼 맛있게 드시고 싶다면...특히 점심메뉴로 강력추천드리고요 ...   \n",
       "2    .< 제주해물라면 맛집모음! > 일단저장@ 해물 아낌없이 주는 해물라면 맛집!바다뷰...   \n",
       "3    협찬제주애월맛집 \"랍스터빈\"주소 : 제주시 애월읍 애월해안로 752전화 : 064-...   \n",
       "4    .한림 #문도지오름방목된 조랑말과 교감까지 할 수이따규~일몰 시간에 맞춰서 가면 멋...   \n",
       "..                                                 ...   \n",
       "109  ო̤̜어깨 깡패 😏8, 9월 예약 받고 있습니다 🤗문의는 프로필의 오픈 카톡으로 부...   \n",
       "110  .막 찍어도 화보 같은 월정리 카페 콧수염고객님의 멋진 사진 감사합니다 🤳제주시 구...   \n",
       "111                                        사장님 알로뷰 …❤️   \n",
       "112                                   #제주여행 #1일차#사진못찍음   \n",
       "113  부랴부랴 택배 싸놓고,오후는 율이와 피크닉 🧺 수업준비와 주문제작건은 야근 당첨😭제...   \n",
       "\n",
       "                                                  date        like  place  \\\n",
       "0    ['#연동', '#모니카옛날통닭간판부터', '#제주맛집', '#제주도맛집', '#제...  2021-08-19  1,113   \n",
       "1    ['#섭지코지한끼🍱오픈', '#섭지코지맛집', '#섭지코지', '#섭지코지카페', ...  2021-08-18      0   \n",
       "2    ['#제주맛집', '#제주도맛집', '#제주공항근처맛집', '#제주시맛집', '#애...  2021-08-18  1,008   \n",
       "3    ['#애월맛집', '#애월카페', '#애월읍맛집', '#제주애월맛집', '#제주도맛...  2021-08-18      0   \n",
       "4    ['#문도지오름방목된', '#제주맛집', '#제주도맛집', '#제주공항근처맛집', ...  2021-08-17  1,304   \n",
       "..                                                 ...         ...    ...   \n",
       "109                                                 []  2021-08-19     19   \n",
       "110  ['#구좌읍카페', '#함덕맛집', '#제주', '#제주도맛집', '#월정리', '...  2021-08-19      3   \n",
       "111                                                 []  2021-08-19     43   \n",
       "112                        ['#제주여행', '#1일차', '#사진못찍음']  2021-08-19      4   \n",
       "113  ['#연이네다락방', '#엄만야근해야해', '#제주피크닉', '#풍경이다했다', '...  2021-08-19      9   \n",
       "\n",
       "                       tags  \n",
       "0                       NaN  \n",
       "1                       NaN  \n",
       "2                       NaN  \n",
       "3                       NaN  \n",
       "4                       NaN  \n",
       "..                      ...  \n",
       "109                 제주시청 근처  \n",
       "110                     NaN  \n",
       "111  One and only - 원앤온리 제주  \n",
       "112                     NaN  \n",
       "113                     선흘리  \n",
       "\n",
       "[710 rows x 5 columns]"
      ],
      "text/html": [
       "<div>\n",
       "<style scoped>\n",
       "    .dataframe tbody tr th:only-of-type {\n",
       "        vertical-align: middle;\n",
       "    }\n",
       "\n",
       "    .dataframe tbody tr th {\n",
       "        vertical-align: top;\n",
       "    }\n",
       "\n",
       "    .dataframe thead th {\n",
       "        text-align: right;\n",
       "    }\n",
       "</style>\n",
       "<table border=\"1\" class=\"dataframe\">\n",
       "  <thead>\n",
       "    <tr style=\"text-align: right;\">\n",
       "      <th></th>\n",
       "      <th>content</th>\n",
       "      <th>date</th>\n",
       "      <th>like</th>\n",
       "      <th>place</th>\n",
       "      <th>tags</th>\n",
       "    </tr>\n",
       "  </thead>\n",
       "  <tbody>\n",
       "    <tr>\n",
       "      <th>0</th>\n",
       "      <td>.#연동 #모니카옛날통닭간판부터 맛집포스 작렬하는 찐맛집이젠 인생치킨이라고 말하기도...</td>\n",
       "      <td>['#연동', '#모니카옛날통닭간판부터', '#제주맛집', '#제주도맛집', '#제...</td>\n",
       "      <td>2021-08-19</td>\n",
       "      <td>1,113</td>\n",
       "      <td>NaN</td>\n",
       "    </tr>\n",
       "    <tr>\n",
       "      <th>1</th>\n",
       "      <td>&lt;광고&gt;섭지코지에서 한끼 맛있게 드시고 싶다면...특히 점심메뉴로 강력추천드리고요 ...</td>\n",
       "      <td>['#섭지코지한끼🍱오픈', '#섭지코지맛집', '#섭지코지', '#섭지코지카페', ...</td>\n",
       "      <td>2021-08-18</td>\n",
       "      <td>0</td>\n",
       "      <td>NaN</td>\n",
       "    </tr>\n",
       "    <tr>\n",
       "      <th>2</th>\n",
       "      <td>.&lt; 제주해물라면 맛집모음! &gt; 일단저장@ 해물 아낌없이 주는 해물라면 맛집!바다뷰...</td>\n",
       "      <td>['#제주맛집', '#제주도맛집', '#제주공항근처맛집', '#제주시맛집', '#애...</td>\n",
       "      <td>2021-08-18</td>\n",
       "      <td>1,008</td>\n",
       "      <td>NaN</td>\n",
       "    </tr>\n",
       "    <tr>\n",
       "      <th>3</th>\n",
       "      <td>협찬제주애월맛집 \"랍스터빈\"주소 : 제주시 애월읍 애월해안로 752전화 : 064-...</td>\n",
       "      <td>['#애월맛집', '#애월카페', '#애월읍맛집', '#제주애월맛집', '#제주도맛...</td>\n",
       "      <td>2021-08-18</td>\n",
       "      <td>0</td>\n",
       "      <td>NaN</td>\n",
       "    </tr>\n",
       "    <tr>\n",
       "      <th>4</th>\n",
       "      <td>.한림 #문도지오름방목된 조랑말과 교감까지 할 수이따규~일몰 시간에 맞춰서 가면 멋...</td>\n",
       "      <td>['#문도지오름방목된', '#제주맛집', '#제주도맛집', '#제주공항근처맛집', ...</td>\n",
       "      <td>2021-08-17</td>\n",
       "      <td>1,304</td>\n",
       "      <td>NaN</td>\n",
       "    </tr>\n",
       "    <tr>\n",
       "      <th>...</th>\n",
       "      <td>...</td>\n",
       "      <td>...</td>\n",
       "      <td>...</td>\n",
       "      <td>...</td>\n",
       "      <td>...</td>\n",
       "    </tr>\n",
       "    <tr>\n",
       "      <th>109</th>\n",
       "      <td>ო̤̜어깨 깡패 😏8, 9월 예약 받고 있습니다 🤗문의는 프로필의 오픈 카톡으로 부...</td>\n",
       "      <td>[]</td>\n",
       "      <td>2021-08-19</td>\n",
       "      <td>19</td>\n",
       "      <td>제주시청 근처</td>\n",
       "    </tr>\n",
       "    <tr>\n",
       "      <th>110</th>\n",
       "      <td>.막 찍어도 화보 같은 월정리 카페 콧수염고객님의 멋진 사진 감사합니다 🤳제주시 구...</td>\n",
       "      <td>['#구좌읍카페', '#함덕맛집', '#제주', '#제주도맛집', '#월정리', '...</td>\n",
       "      <td>2021-08-19</td>\n",
       "      <td>3</td>\n",
       "      <td>NaN</td>\n",
       "    </tr>\n",
       "    <tr>\n",
       "      <th>111</th>\n",
       "      <td>사장님 알로뷰 …❤️</td>\n",
       "      <td>[]</td>\n",
       "      <td>2021-08-19</td>\n",
       "      <td>43</td>\n",
       "      <td>One and only - 원앤온리 제주</td>\n",
       "    </tr>\n",
       "    <tr>\n",
       "      <th>112</th>\n",
       "      <td>#제주여행 #1일차#사진못찍음</td>\n",
       "      <td>['#제주여행', '#1일차', '#사진못찍음']</td>\n",
       "      <td>2021-08-19</td>\n",
       "      <td>4</td>\n",
       "      <td>NaN</td>\n",
       "    </tr>\n",
       "    <tr>\n",
       "      <th>113</th>\n",
       "      <td>부랴부랴 택배 싸놓고,오후는 율이와 피크닉 🧺 수업준비와 주문제작건은 야근 당첨😭제...</td>\n",
       "      <td>['#연이네다락방', '#엄만야근해야해', '#제주피크닉', '#풍경이다했다', '...</td>\n",
       "      <td>2021-08-19</td>\n",
       "      <td>9</td>\n",
       "      <td>선흘리</td>\n",
       "    </tr>\n",
       "  </tbody>\n",
       "</table>\n",
       "<p>710 rows × 5 columns</p>\n",
       "</div>"
      ]
     },
     "metadata": {},
     "execution_count": 19
    }
   ],
   "metadata": {}
  },
  {
   "cell_type": "code",
   "execution_count": null,
   "source": [],
   "outputs": [],
   "metadata": {}
  }
 ],
 "metadata": {
  "orig_nbformat": 4,
  "language_info": {
   "name": "python",
   "version": "3.8.10",
   "mimetype": "text/x-python",
   "codemirror_mode": {
    "name": "ipython",
    "version": 3
   },
   "pygments_lexer": "ipython3",
   "nbconvert_exporter": "python",
   "file_extension": ".py"
  },
  "kernelspec": {
   "name": "python3",
   "display_name": "Python 3.8.10 64-bit ('base': conda)"
  },
  "interpreter": {
   "hash": "28d246944fa520a80a3fed0a54be27658972cc37ce61df83b88ae1be854dfa64"
  }
 },
 "nbformat": 4,
 "nbformat_minor": 2
}