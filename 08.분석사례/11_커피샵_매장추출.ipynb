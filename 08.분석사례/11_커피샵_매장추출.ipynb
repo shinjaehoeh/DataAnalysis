{
  "nbformat": 4,
  "nbformat_minor": 0,
  "metadata": {
    "colab": {
      "name": "11_커피샵_매장추출.ipynb",
      "provenance": [],
      "collapsed_sections": []
    },
    "kernelspec": {
      "name": "python3",
      "display_name": "Python 3"
    },
    "language_info": {
      "name": "python"
    }
  },
  "cells": [
    {
      "cell_type": "markdown",
      "metadata": {
        "id": "8c2TbfqEpExY"
      },
      "source": [
        "# 커피지수"
      ]
    },
    {
      "cell_type": "markdown",
      "metadata": {
        "id": "79mas6rppQ6-"
      },
      "source": [
        "## 1. 데이터로부터 4개 커피샵에 대한 정보 추출하기\n",
        "- 상권중분류 : Q12\n",
        "- 상호, 지점, 시도, 시군구, 도로명\n",
        "- 서울 데이터 -> 스타벅스, 커피빈, 이디야커피, 빽다방\n",
        "- 전국 데이터 -> 4개 커피샵"
      ]
    },
    {
      "cell_type": "code",
      "metadata": {
        "id": "fCYSiWmM-2eo"
      },
      "source": [
        "import numpy as np\n",
        "import pandas as pd"
      ],
      "execution_count": 1,
      "outputs": []
    },
    {
      "cell_type": "code",
      "metadata": {
        "colab": {
          "base_uri": "https://localhost:8080/"
        },
        "id": "4kWLAo_Tnejy",
        "outputId": "dcfafbc3-f8e4-4f0c-e0f5-6d5c1434e80b"
      },
      "source": [
        "from google.colab import drive\n",
        "drive.mount('/content/mnt')"
      ],
      "execution_count": 2,
      "outputs": [
        {
          "output_type": "stream",
          "name": "stdout",
          "text": [
            "Mounted at /content/mnt\n"
          ]
        }
      ]
    },
    {
      "cell_type": "code",
      "metadata": {
        "id": "zqzJY1ul-xVT"
      },
      "source": [
        "data_folder = '/content/mnt/MyDrive/data/소상공인시장진흥공단_상가(상권)정보_20210630'"
      ],
      "execution_count": 3,
      "outputs": []
    },
    {
      "cell_type": "markdown",
      "metadata": {
        "id": "vEFW1GUx96bn"
      },
      "source": [
        "### 서울 데이터에서 4개 매장 정보 추출하기"
      ]
    },
    {
      "cell_type": "code",
      "metadata": {
        "colab": {
          "base_uri": "https://localhost:8080/",
          "height": 735
        },
        "id": "Cf7GlfDpntGg",
        "outputId": "20179eff-1e6e-45c9-dfba-5a5d084ee671"
      },
      "source": [
        "df = pd.read_csv(f'{data_folder}/소상공인시장진흥공단_상가(상권)정보_서울_202106.csv', encoding='utf-8')\n",
        "df.head(2)"
      ],
      "execution_count": 8,
      "outputs": [
        {
          "output_type": "execute_result",
          "data": {
            "text/html": [
              "<div>\n",
              "<style scoped>\n",
              "    .dataframe tbody tr th:only-of-type {\n",
              "        vertical-align: middle;\n",
              "    }\n",
              "\n",
              "    .dataframe tbody tr th {\n",
              "        vertical-align: top;\n",
              "    }\n",
              "\n",
              "    .dataframe thead th {\n",
              "        text-align: right;\n",
              "    }\n",
              "</style>\n",
              "<table border=\"1\" class=\"dataframe\">\n",
              "  <thead>\n",
              "    <tr style=\"text-align: right;\">\n",
              "      <th></th>\n",
              "      <th>상가업소번호</th>\n",
              "      <th>상호명</th>\n",
              "      <th>지점명</th>\n",
              "      <th>상권업종대분류코드</th>\n",
              "      <th>상권업종대분류명</th>\n",
              "      <th>상권업종중분류코드</th>\n",
              "      <th>상권업종중분류명</th>\n",
              "      <th>상권업종소분류코드</th>\n",
              "      <th>상권업종소분류명</th>\n",
              "      <th>표준산업분류코드</th>\n",
              "      <th>표준산업분류명</th>\n",
              "      <th>시도코드</th>\n",
              "      <th>시도명</th>\n",
              "      <th>시군구코드</th>\n",
              "      <th>시군구명</th>\n",
              "      <th>행정동코드</th>\n",
              "      <th>행정동명</th>\n",
              "      <th>법정동코드</th>\n",
              "      <th>법정동명</th>\n",
              "      <th>지번코드</th>\n",
              "      <th>대지구분코드</th>\n",
              "      <th>대지구분명</th>\n",
              "      <th>지번본번지</th>\n",
              "      <th>지번부번지</th>\n",
              "      <th>지번주소</th>\n",
              "      <th>도로명코드</th>\n",
              "      <th>도로명</th>\n",
              "      <th>건물본번지</th>\n",
              "      <th>건물부번지</th>\n",
              "      <th>건물관리번호</th>\n",
              "      <th>건물명</th>\n",
              "      <th>도로명주소</th>\n",
              "      <th>구우편번호</th>\n",
              "      <th>신우편번호</th>\n",
              "      <th>동정보</th>\n",
              "      <th>층정보</th>\n",
              "      <th>호정보</th>\n",
              "      <th>경도</th>\n",
              "      <th>위도</th>\n",
              "    </tr>\n",
              "  </thead>\n",
              "  <tbody>\n",
              "    <tr>\n",
              "      <th>0</th>\n",
              "      <td>17174175</td>\n",
              "      <td>비지트</td>\n",
              "      <td>NaN</td>\n",
              "      <td>Q</td>\n",
              "      <td>음식</td>\n",
              "      <td>Q01</td>\n",
              "      <td>한식</td>\n",
              "      <td>Q01A01</td>\n",
              "      <td>한식/백반/한정식</td>\n",
              "      <td>I56111</td>\n",
              "      <td>한식 음식점업</td>\n",
              "      <td>11</td>\n",
              "      <td>서울특별시</td>\n",
              "      <td>11650</td>\n",
              "      <td>서초구</td>\n",
              "      <td>1165062100</td>\n",
              "      <td>방배4동</td>\n",
              "      <td>1165010100</td>\n",
              "      <td>방배동</td>\n",
              "      <td>1165010100208540018</td>\n",
              "      <td>1</td>\n",
              "      <td>대지</td>\n",
              "      <td>854</td>\n",
              "      <td>18.0</td>\n",
              "      <td>서울특별시 서초구 방배동 854-18</td>\n",
              "      <td>116504163117</td>\n",
              "      <td>서울특별시 서초구 동광로18길</td>\n",
              "      <td>82</td>\n",
              "      <td>NaN</td>\n",
              "      <td>1165010100108540018009586</td>\n",
              "      <td>상랑의빌딩</td>\n",
              "      <td>서울특별시 서초구 동광로18길 82</td>\n",
              "      <td>137837</td>\n",
              "      <td>6572.0</td>\n",
              "      <td>NaN</td>\n",
              "      <td>1</td>\n",
              "      <td>NaN</td>\n",
              "      <td>126.991394</td>\n",
              "      <td>37.488375</td>\n",
              "    </tr>\n",
              "    <tr>\n",
              "      <th>1</th>\n",
              "      <td>17174119</td>\n",
              "      <td>쓰리에프</td>\n",
              "      <td>NaN</td>\n",
              "      <td>Q</td>\n",
              "      <td>음식</td>\n",
              "      <td>Q01</td>\n",
              "      <td>한식</td>\n",
              "      <td>Q01A01</td>\n",
              "      <td>한식/백반/한정식</td>\n",
              "      <td>I56111</td>\n",
              "      <td>한식 음식점업</td>\n",
              "      <td>11</td>\n",
              "      <td>서울특별시</td>\n",
              "      <td>11590</td>\n",
              "      <td>동작구</td>\n",
              "      <td>1159063000</td>\n",
              "      <td>사당2동</td>\n",
              "      <td>1159010700</td>\n",
              "      <td>사당동</td>\n",
              "      <td>1159010700201390072</td>\n",
              "      <td>1</td>\n",
              "      <td>대지</td>\n",
              "      <td>139</td>\n",
              "      <td>72.0</td>\n",
              "      <td>서울특별시 동작구 사당동 139-72</td>\n",
              "      <td>115904157119</td>\n",
              "      <td>서울특별시 동작구 동작대로27가길</td>\n",
              "      <td>12</td>\n",
              "      <td>NaN</td>\n",
              "      <td>1159010700101390073009536</td>\n",
              "      <td>NaN</td>\n",
              "      <td>서울특별시 동작구 동작대로27가길 12</td>\n",
              "      <td>156816</td>\n",
              "      <td>7008.0</td>\n",
              "      <td>NaN</td>\n",
              "      <td>NaN</td>\n",
              "      <td>NaN</td>\n",
              "      <td>126.980952</td>\n",
              "      <td>37.487105</td>\n",
              "    </tr>\n",
              "  </tbody>\n",
              "</table>\n",
              "</div>"
            ],
            "text/plain": [
              "     상가업소번호   상호명  지점명 상권업종대분류코드 상권업종대분류명  ...  동정보  층정보 호정보          경도         위도\n",
              "0  17174175   비지트  NaN         Q       음식  ...  NaN    1 NaN  126.991394  37.488375\n",
              "1  17174119  쓰리에프  NaN         Q       음식  ...  NaN  NaN NaN  126.980952  37.487105\n",
              "\n",
              "[2 rows x 39 columns]"
            ]
          },
          "metadata": {},
          "execution_count": 8
        }
      ]
    },
    {
      "cell_type": "code",
      "metadata": {
        "colab": {
          "base_uri": "https://localhost:8080/",
          "height": 222
        },
        "id": "qDZw7CP6tWx3",
        "outputId": "1ce070a2-ab80-470e-cee8-616a77f0ac95"
      },
      "source": [
        "df = df[df.상권업종중분류코드 == 'Q12']\n",
        "df = df[['상호명', '지점명', '시도명', '시군구명', '도로명']]\n",
        "print(df.shape)\n",
        "df.head()"
      ],
      "execution_count": 9,
      "outputs": [
        {
          "output_type": "stream",
          "name": "stdout",
          "text": [
            "(20832, 5)\n"
          ]
        },
        {
          "output_type": "execute_result",
          "data": {
            "text/html": [
              "<div>\n",
              "<style scoped>\n",
              "    .dataframe tbody tr th:only-of-type {\n",
              "        vertical-align: middle;\n",
              "    }\n",
              "\n",
              "    .dataframe tbody tr th {\n",
              "        vertical-align: top;\n",
              "    }\n",
              "\n",
              "    .dataframe thead th {\n",
              "        text-align: right;\n",
              "    }\n",
              "</style>\n",
              "<table border=\"1\" class=\"dataframe\">\n",
              "  <thead>\n",
              "    <tr style=\"text-align: right;\">\n",
              "      <th></th>\n",
              "      <th>상호명</th>\n",
              "      <th>지점명</th>\n",
              "      <th>시도명</th>\n",
              "      <th>시군구명</th>\n",
              "      <th>도로명</th>\n",
              "    </tr>\n",
              "  </thead>\n",
              "  <tbody>\n",
              "    <tr>\n",
              "      <th>28</th>\n",
              "      <td>커피빈</td>\n",
              "      <td>코리아대학로대명거리점</td>\n",
              "      <td>서울특별시</td>\n",
              "      <td>종로구</td>\n",
              "      <td>서울특별시 종로구 대명길</td>\n",
              "    </tr>\n",
              "    <tr>\n",
              "      <th>111</th>\n",
              "      <td>요거프레소</td>\n",
              "      <td>쌍문점</td>\n",
              "      <td>서울특별시</td>\n",
              "      <td>도봉구</td>\n",
              "      <td>서울특별시 도봉구 도당로</td>\n",
              "    </tr>\n",
              "    <tr>\n",
              "      <th>190</th>\n",
              "      <td>메머드커피</td>\n",
              "      <td>NaN</td>\n",
              "      <td>서울특별시</td>\n",
              "      <td>마포구</td>\n",
              "      <td>서울특별시 마포구 와우산로</td>\n",
              "    </tr>\n",
              "    <tr>\n",
              "      <th>197</th>\n",
              "      <td>우성커피숍</td>\n",
              "      <td>NaN</td>\n",
              "      <td>서울특별시</td>\n",
              "      <td>양천구</td>\n",
              "      <td>서울특별시 양천구 오목로</td>\n",
              "    </tr>\n",
              "    <tr>\n",
              "      <th>225</th>\n",
              "      <td>카페클럽</td>\n",
              "      <td>NaN</td>\n",
              "      <td>서울특별시</td>\n",
              "      <td>송파구</td>\n",
              "      <td>서울특별시 송파구 동남로2길</td>\n",
              "    </tr>\n",
              "  </tbody>\n",
              "</table>\n",
              "</div>"
            ],
            "text/plain": [
              "       상호명          지점명    시도명 시군구명              도로명\n",
              "28     커피빈  코리아대학로대명거리점  서울특별시  종로구    서울특별시 종로구 대명길\n",
              "111  요거프레소          쌍문점  서울특별시  도봉구    서울특별시 도봉구 도당로\n",
              "190  메머드커피          NaN  서울특별시  마포구   서울특별시 마포구 와우산로\n",
              "197  우성커피숍          NaN  서울특별시  양천구    서울특별시 양천구 오목로\n",
              "225   카페클럽          NaN  서울특별시  송파구  서울특별시 송파구 동남로2길"
            ]
          },
          "metadata": {},
          "execution_count": 9
        }
      ]
    },
    {
      "cell_type": "code",
      "metadata": {
        "colab": {
          "base_uri": "https://localhost:8080/",
          "height": 222
        },
        "id": "Z54CkHb8FQcX",
        "outputId": "fb6f3f75-abb0-4f86-ee1f-33d266b75d5a"
      },
      "source": [
        "# na는 NaN 제외, case는 대소문자 무시\n",
        "sb = df[df.상호명.str.contains('스타벅스|STARBUCKS', na=False, case=False)]\n",
        "print(sb.shape)\n",
        "sb.head()"
      ],
      "execution_count": 10,
      "outputs": [
        {
          "output_type": "stream",
          "name": "stdout",
          "text": [
            "(489, 5)\n"
          ]
        },
        {
          "output_type": "execute_result",
          "data": {
            "text/html": [
              "<div>\n",
              "<style scoped>\n",
              "    .dataframe tbody tr th:only-of-type {\n",
              "        vertical-align: middle;\n",
              "    }\n",
              "\n",
              "    .dataframe tbody tr th {\n",
              "        vertical-align: top;\n",
              "    }\n",
              "\n",
              "    .dataframe thead th {\n",
              "        text-align: right;\n",
              "    }\n",
              "</style>\n",
              "<table border=\"1\" class=\"dataframe\">\n",
              "  <thead>\n",
              "    <tr style=\"text-align: right;\">\n",
              "      <th></th>\n",
              "      <th>상호명</th>\n",
              "      <th>지점명</th>\n",
              "      <th>시도명</th>\n",
              "      <th>시군구명</th>\n",
              "      <th>도로명</th>\n",
              "    </tr>\n",
              "  </thead>\n",
              "  <tbody>\n",
              "    <tr>\n",
              "      <th>1738</th>\n",
              "      <td>스타벅스</td>\n",
              "      <td>동숭로아트점</td>\n",
              "      <td>서울특별시</td>\n",
              "      <td>종로구</td>\n",
              "      <td>서울특별시 종로구 동숭길</td>\n",
              "    </tr>\n",
              "    <tr>\n",
              "      <th>2766</th>\n",
              "      <td>스타벅스남부터미널2점</td>\n",
              "      <td>남부터미널2점</td>\n",
              "      <td>서울특별시</td>\n",
              "      <td>서초구</td>\n",
              "      <td>서울특별시 서초구 효령로</td>\n",
              "    </tr>\n",
              "    <tr>\n",
              "      <th>3785</th>\n",
              "      <td>스타벅스</td>\n",
              "      <td>당산점</td>\n",
              "      <td>서울특별시</td>\n",
              "      <td>영등포구</td>\n",
              "      <td>서울특별시 영등포구 양평로</td>\n",
              "    </tr>\n",
              "    <tr>\n",
              "      <th>3933</th>\n",
              "      <td>스타벅스</td>\n",
              "      <td>가로수길점</td>\n",
              "      <td>서울특별시</td>\n",
              "      <td>강남구</td>\n",
              "      <td>서울특별시 강남구 논현로175길</td>\n",
              "    </tr>\n",
              "    <tr>\n",
              "      <th>3995</th>\n",
              "      <td>스타벅스미아사거리역점</td>\n",
              "      <td>미아사거리역점</td>\n",
              "      <td>서울특별시</td>\n",
              "      <td>강북구</td>\n",
              "      <td>서울특별시 강북구 도봉로</td>\n",
              "    </tr>\n",
              "  </tbody>\n",
              "</table>\n",
              "</div>"
            ],
            "text/plain": [
              "              상호명      지점명    시도명  시군구명                도로명\n",
              "1738         스타벅스   동숭로아트점  서울특별시   종로구      서울특별시 종로구 동숭길\n",
              "2766  스타벅스남부터미널2점  남부터미널2점  서울특별시   서초구      서울특별시 서초구 효령로\n",
              "3785         스타벅스      당산점  서울특별시  영등포구     서울특별시 영등포구 양평로\n",
              "3933         스타벅스    가로수길점  서울특별시   강남구  서울특별시 강남구 논현로175길\n",
              "3995  스타벅스미아사거리역점  미아사거리역점  서울특별시   강북구      서울특별시 강북구 도봉로"
            ]
          },
          "metadata": {},
          "execution_count": 10
        }
      ]
    },
    {
      "cell_type": "code",
      "metadata": {
        "colab": {
          "base_uri": "https://localhost:8080/",
          "height": 203
        },
        "id": "LPWSNqSREw-A",
        "outputId": "e543aaed-d030-4caa-e6b9-c70339369db3"
      },
      "source": [
        "cb = df[df.상호명.str.contains('커피빈|COFFEEBEAN', na=False, case=False)]\n",
        "cb.head()"
      ],
      "execution_count": 11,
      "outputs": [
        {
          "output_type": "execute_result",
          "data": {
            "text/html": [
              "<div>\n",
              "<style scoped>\n",
              "    .dataframe tbody tr th:only-of-type {\n",
              "        vertical-align: middle;\n",
              "    }\n",
              "\n",
              "    .dataframe tbody tr th {\n",
              "        vertical-align: top;\n",
              "    }\n",
              "\n",
              "    .dataframe thead th {\n",
              "        text-align: right;\n",
              "    }\n",
              "</style>\n",
              "<table border=\"1\" class=\"dataframe\">\n",
              "  <thead>\n",
              "    <tr style=\"text-align: right;\">\n",
              "      <th></th>\n",
              "      <th>상호명</th>\n",
              "      <th>지점명</th>\n",
              "      <th>시도명</th>\n",
              "      <th>시군구명</th>\n",
              "      <th>도로명</th>\n",
              "    </tr>\n",
              "  </thead>\n",
              "  <tbody>\n",
              "    <tr>\n",
              "      <th>28</th>\n",
              "      <td>커피빈</td>\n",
              "      <td>코리아대학로대명거리점</td>\n",
              "      <td>서울특별시</td>\n",
              "      <td>종로구</td>\n",
              "      <td>서울특별시 종로구 대명길</td>\n",
              "    </tr>\n",
              "    <tr>\n",
              "      <th>316</th>\n",
              "      <td>커피빈코리아낙성대역점</td>\n",
              "      <td>코리아낙성대역점</td>\n",
              "      <td>서울특별시</td>\n",
              "      <td>관악구</td>\n",
              "      <td>서울특별시 관악구 남부순환로</td>\n",
              "    </tr>\n",
              "    <tr>\n",
              "      <th>1470</th>\n",
              "      <td>커피빈</td>\n",
              "      <td>코리아강남역랭기지타워점</td>\n",
              "      <td>서울특별시</td>\n",
              "      <td>강남구</td>\n",
              "      <td>서울특별시 강남구 테헤란로4길</td>\n",
              "    </tr>\n",
              "    <tr>\n",
              "      <th>1491</th>\n",
              "      <td>커피빈</td>\n",
              "      <td>코리아청담성당점</td>\n",
              "      <td>서울특별시</td>\n",
              "      <td>강남구</td>\n",
              "      <td>서울특별시 강남구 삼성로</td>\n",
              "    </tr>\n",
              "    <tr>\n",
              "      <th>1506</th>\n",
              "      <td>커피빈</td>\n",
              "      <td>코리아청담에스점</td>\n",
              "      <td>서울특별시</td>\n",
              "      <td>강남구</td>\n",
              "      <td>서울특별시 강남구 압구정로</td>\n",
              "    </tr>\n",
              "  </tbody>\n",
              "</table>\n",
              "</div>"
            ],
            "text/plain": [
              "              상호명           지점명    시도명 시군구명               도로명\n",
              "28            커피빈   코리아대학로대명거리점  서울특별시  종로구     서울특별시 종로구 대명길\n",
              "316   커피빈코리아낙성대역점      코리아낙성대역점  서울특별시  관악구   서울특별시 관악구 남부순환로\n",
              "1470          커피빈  코리아강남역랭기지타워점  서울특별시  강남구  서울특별시 강남구 테헤란로4길\n",
              "1491          커피빈      코리아청담성당점  서울특별시  강남구     서울특별시 강남구 삼성로\n",
              "1506          커피빈      코리아청담에스점  서울특별시  강남구    서울특별시 강남구 압구정로"
            ]
          },
          "metadata": {},
          "execution_count": 11
        }
      ]
    },
    {
      "cell_type": "code",
      "metadata": {
        "colab": {
          "base_uri": "https://localhost:8080/",
          "height": 203
        },
        "id": "DVqqCcmgmaM4",
        "outputId": "4be80a8b-aa43-476f-e1f0-88881972a52f"
      },
      "source": [
        "ed = df[df.상호명.str.contains('이디야|EDIYA', na=False, case=False)]\n",
        "ed.head()"
      ],
      "execution_count": 12,
      "outputs": [
        {
          "output_type": "execute_result",
          "data": {
            "text/html": [
              "<div>\n",
              "<style scoped>\n",
              "    .dataframe tbody tr th:only-of-type {\n",
              "        vertical-align: middle;\n",
              "    }\n",
              "\n",
              "    .dataframe tbody tr th {\n",
              "        vertical-align: top;\n",
              "    }\n",
              "\n",
              "    .dataframe thead th {\n",
              "        text-align: right;\n",
              "    }\n",
              "</style>\n",
              "<table border=\"1\" class=\"dataframe\">\n",
              "  <thead>\n",
              "    <tr style=\"text-align: right;\">\n",
              "      <th></th>\n",
              "      <th>상호명</th>\n",
              "      <th>지점명</th>\n",
              "      <th>시도명</th>\n",
              "      <th>시군구명</th>\n",
              "      <th>도로명</th>\n",
              "    </tr>\n",
              "  </thead>\n",
              "  <tbody>\n",
              "    <tr>\n",
              "      <th>1272</th>\n",
              "      <td>이디야커피</td>\n",
              "      <td>신길역점</td>\n",
              "      <td>서울특별시</td>\n",
              "      <td>영등포구</td>\n",
              "      <td>서울특별시 영등포구 영등포로</td>\n",
              "    </tr>\n",
              "    <tr>\n",
              "      <th>1411</th>\n",
              "      <td>이디야커피</td>\n",
              "      <td>라이프점</td>\n",
              "      <td>서울특별시</td>\n",
              "      <td>영등포구</td>\n",
              "      <td>서울특별시 영등포구 63로</td>\n",
              "    </tr>\n",
              "    <tr>\n",
              "      <th>2433</th>\n",
              "      <td>이디야커피양재AT점</td>\n",
              "      <td>양재AT점</td>\n",
              "      <td>서울특별시</td>\n",
              "      <td>서초구</td>\n",
              "      <td>서울특별시 서초구 동산로</td>\n",
              "    </tr>\n",
              "    <tr>\n",
              "      <th>2785</th>\n",
              "      <td>이디야커피</td>\n",
              "      <td>시흥점</td>\n",
              "      <td>서울특별시</td>\n",
              "      <td>금천구</td>\n",
              "      <td>서울특별시 금천구 금하로</td>\n",
              "    </tr>\n",
              "    <tr>\n",
              "      <th>4498</th>\n",
              "      <td>이디야커피</td>\n",
              "      <td>개봉중앙점</td>\n",
              "      <td>서울특별시</td>\n",
              "      <td>구로구</td>\n",
              "      <td>서울특별시 구로구 개봉로3길</td>\n",
              "    </tr>\n",
              "  </tbody>\n",
              "</table>\n",
              "</div>"
            ],
            "text/plain": [
              "             상호명    지점명    시도명  시군구명              도로명\n",
              "1272       이디야커피   신길역점  서울특별시  영등포구  서울특별시 영등포구 영등포로\n",
              "1411       이디야커피   라이프점  서울특별시  영등포구   서울특별시 영등포구 63로\n",
              "2433  이디야커피양재AT점  양재AT점  서울특별시   서초구    서울특별시 서초구 동산로\n",
              "2785       이디야커피    시흥점  서울특별시   금천구    서울특별시 금천구 금하로\n",
              "4498       이디야커피  개봉중앙점  서울특별시   구로구  서울특별시 구로구 개봉로3길"
            ]
          },
          "metadata": {},
          "execution_count": 12
        }
      ]
    },
    {
      "cell_type": "code",
      "metadata": {
        "colab": {
          "base_uri": "https://localhost:8080/",
          "height": 203
        },
        "id": "5m9WPb3smkQR",
        "outputId": "56ac2a51-bb6f-4ef2-f9a5-a73fd0200dda"
      },
      "source": [
        "bd = df[df.상호명.str.contains('빽다방|PAIKSCOFFEE', na=False, case=False)]\n",
        "bd.head()"
      ],
      "execution_count": 13,
      "outputs": [
        {
          "output_type": "execute_result",
          "data": {
            "text/html": [
              "<div>\n",
              "<style scoped>\n",
              "    .dataframe tbody tr th:only-of-type {\n",
              "        vertical-align: middle;\n",
              "    }\n",
              "\n",
              "    .dataframe tbody tr th {\n",
              "        vertical-align: top;\n",
              "    }\n",
              "\n",
              "    .dataframe thead th {\n",
              "        text-align: right;\n",
              "    }\n",
              "</style>\n",
              "<table border=\"1\" class=\"dataframe\">\n",
              "  <thead>\n",
              "    <tr style=\"text-align: right;\">\n",
              "      <th></th>\n",
              "      <th>상호명</th>\n",
              "      <th>지점명</th>\n",
              "      <th>시도명</th>\n",
              "      <th>시군구명</th>\n",
              "      <th>도로명</th>\n",
              "    </tr>\n",
              "  </thead>\n",
              "  <tbody>\n",
              "    <tr>\n",
              "      <th>7607</th>\n",
              "      <td>빽다방공덕새창로점</td>\n",
              "      <td>공덕새창로점</td>\n",
              "      <td>서울특별시</td>\n",
              "      <td>마포구</td>\n",
              "      <td>서울특별시 마포구 새창로</td>\n",
              "    </tr>\n",
              "    <tr>\n",
              "      <th>8565</th>\n",
              "      <td>빽다방서초우성점</td>\n",
              "      <td>서초우성점</td>\n",
              "      <td>서울특별시</td>\n",
              "      <td>서초구</td>\n",
              "      <td>서울특별시 서초구 사임당로</td>\n",
              "    </tr>\n",
              "    <tr>\n",
              "      <th>19901</th>\n",
              "      <td>빽다방중계은행사거리점</td>\n",
              "      <td>중계은행사거리점</td>\n",
              "      <td>서울특별시</td>\n",
              "      <td>노원구</td>\n",
              "      <td>서울특별시 노원구 한글비석로</td>\n",
              "    </tr>\n",
              "    <tr>\n",
              "      <th>26972</th>\n",
              "      <td>빽다방성신여대점</td>\n",
              "      <td>성신여대점</td>\n",
              "      <td>서울특별시</td>\n",
              "      <td>성북구</td>\n",
              "      <td>서울특별시 성북구 동소문로20나길</td>\n",
              "    </tr>\n",
              "    <tr>\n",
              "      <th>27346</th>\n",
              "      <td>빽다방신림역1호점</td>\n",
              "      <td>신림역1호점</td>\n",
              "      <td>서울특별시</td>\n",
              "      <td>관악구</td>\n",
              "      <td>서울특별시 관악구 남부순환로</td>\n",
              "    </tr>\n",
              "  </tbody>\n",
              "</table>\n",
              "</div>"
            ],
            "text/plain": [
              "               상호명       지점명    시도명 시군구명                 도로명\n",
              "7607     빽다방공덕새창로점    공덕새창로점  서울특별시  마포구       서울특별시 마포구 새창로\n",
              "8565      빽다방서초우성점     서초우성점  서울특별시  서초구      서울특별시 서초구 사임당로\n",
              "19901  빽다방중계은행사거리점  중계은행사거리점  서울특별시  노원구     서울특별시 노원구 한글비석로\n",
              "26972     빽다방성신여대점     성신여대점  서울특별시  성북구  서울특별시 성북구 동소문로20나길\n",
              "27346    빽다방신림역1호점    신림역1호점  서울특별시  관악구     서울특별시 관악구 남부순환로"
            ]
          },
          "metadata": {},
          "execution_count": 13
        }
      ]
    },
    {
      "cell_type": "code",
      "metadata": {
        "colab": {
          "base_uri": "https://localhost:8080/"
        },
        "id": "Vp3WkOwemoMW",
        "outputId": "a3b68685-2fe2-4636-d3cd-39cc5ba7c367"
      },
      "source": [
        "len(sb), len(cb), len(ed), len(bd)"
      ],
      "execution_count": 14,
      "outputs": [
        {
          "output_type": "execute_result",
          "data": {
            "text/plain": [
              "(489, 169, 440, 127)"
            ]
          },
          "metadata": {},
          "execution_count": 14
        }
      ]
    },
    {
      "cell_type": "markdown",
      "metadata": {
        "id": "h7ZG-wgom5AZ"
      },
      "source": [
        "### 전국 데이터에서 4개 매장 정보 추출하기"
      ]
    },
    {
      "cell_type": "code",
      "metadata": {
        "id": "Qh-kk_EOmrQb"
      },
      "source": [
        "starbucks = pd.DataFrame(columns=['상호명','지점명','시도명','시군구명','도로명주소'])\n",
        "coffeebean = pd.DataFrame(columns=['상호명','지점명','시도명','시군구명','도로명주소'])\n",
        "ediya = pd.DataFrame(columns=['상호명','지점명','시도명','시군구명','도로명주소'])\n",
        "paik = pd.DataFrame(columns=['상호명','지점명','시도명','시군구명','도로명주소'])"
      ],
      "execution_count": 15,
      "outputs": []
    },
    {
      "cell_type": "code",
      "metadata": {
        "colab": {
          "base_uri": "https://localhost:8080/"
        },
        "id": "3C2QVY4anB1f",
        "outputId": "be985d68-3f07-4954-c181-d0b7c3493f29"
      },
      "source": [
        "from glob import glob\n",
        "for filename in glob(f'{data_folder}/*.csv'):\n",
        "    print(filename)\n",
        "    df = pd.read_csv(filename)\n",
        "    df = df[df.상권업종중분류코드 == 'Q12']\n",
        "    df = df[['상호명','지점명','시도명','시군구명','도로명주소']]\n",
        "\n",
        "    sb = df[df.상호명.str.contains('스타벅스|STARBUCKS', case=False)]\n",
        "    cb = df[df.상호명.str.contains('커피빈|COFFEEBEAN', case=False)]\n",
        "    ed = df[df.상호명.str.contains('이디야|EDIYA', case=False)]\n",
        "    bd = df[df.상호명.str.contains('빽다방|PAIKSCOFFEE', case=False)]\n",
        "\n",
        "    starbucks = pd.concat([starbucks, sb])\n",
        "    coffeebean = pd.concat([coffeebean, cb])\n",
        "    ediya = pd.concat([ediya, ed])\n",
        "    paik = pd.concat([paik, bd])"
      ],
      "execution_count": 16,
      "outputs": [
        {
          "output_type": "stream",
          "name": "stdout",
          "text": [
            "/content/mnt/MyDrive/data/소상공인시장진흥공단_상가(상권)정보_20210630/소상공인시장진흥공단_상가(상권)정보_부산_202106.csv\n",
            "/content/mnt/MyDrive/data/소상공인시장진흥공단_상가(상권)정보_20210630/소상공인시장진흥공단_상가(상권)정보_울산_202106.csv\n"
          ]
        },
        {
          "output_type": "stream",
          "name": "stderr",
          "text": [
            "/usr/local/lib/python3.7/dist-packages/IPython/core/interactiveshell.py:2718: DtypeWarning: Columns (35) have mixed types.Specify dtype option on import or set low_memory=False.\n",
            "  interactivity=interactivity, compiler=compiler, result=result)\n"
          ]
        },
        {
          "output_type": "stream",
          "name": "stdout",
          "text": [
            "/content/mnt/MyDrive/data/소상공인시장진흥공단_상가(상권)정보_20210630/소상공인시장진흥공단_상가(상권)정보_서울_202106.csv\n",
            "/content/mnt/MyDrive/data/소상공인시장진흥공단_상가(상권)정보_20210630/소상공인시장진흥공단_상가(상권)정보_세종_202106.csv\n",
            "/content/mnt/MyDrive/data/소상공인시장진흥공단_상가(상권)정보_20210630/소상공인시장진흥공단_상가(상권)정보_인천_202106.csv\n",
            "/content/mnt/MyDrive/data/소상공인시장진흥공단_상가(상권)정보_20210630/소상공인시장진흥공단_상가(상권)정보_전남_202106.csv\n",
            "/content/mnt/MyDrive/data/소상공인시장진흥공단_상가(상권)정보_20210630/소상공인시장진흥공단_상가(상권)정보_제주_202106.csv\n",
            "/content/mnt/MyDrive/data/소상공인시장진흥공단_상가(상권)정보_20210630/소상공인시장진흥공단_상가(상권)정보_전북_202106.csv\n",
            "/content/mnt/MyDrive/data/소상공인시장진흥공단_상가(상권)정보_20210630/소상공인시장진흥공단_상가(상권)정보_충남_202106.csv\n",
            "/content/mnt/MyDrive/data/소상공인시장진흥공단_상가(상권)정보_20210630/소상공인시장진흥공단_상가(상권)정보_충북_202106.csv\n",
            "/content/mnt/MyDrive/data/소상공인시장진흥공단_상가(상권)정보_20210630/소상공인시장진흥공단_상가(상권)정보_강원_202106.csv\n",
            "/content/mnt/MyDrive/data/소상공인시장진흥공단_상가(상권)정보_20210630/소상공인시장진흥공단_상가(상권)정보_경기_202106.csv\n",
            "/content/mnt/MyDrive/data/소상공인시장진흥공단_상가(상권)정보_20210630/소상공인시장진흥공단_상가(상권)정보_경남_202106.csv\n",
            "/content/mnt/MyDrive/data/소상공인시장진흥공단_상가(상권)정보_20210630/소상공인시장진흥공단_상가(상권)정보_경북_202106.csv\n",
            "/content/mnt/MyDrive/data/소상공인시장진흥공단_상가(상권)정보_20210630/소상공인시장진흥공단_상가(상권)정보_광주_202106.csv\n",
            "/content/mnt/MyDrive/data/소상공인시장진흥공단_상가(상권)정보_20210630/소상공인시장진흥공단_상가(상권)정보_대구_202106.csv\n",
            "/content/mnt/MyDrive/data/소상공인시장진흥공단_상가(상권)정보_20210630/소상공인시장진흥공단_상가(상권)정보_대전_202106.csv\n"
          ]
        }
      ]
    },
    {
      "cell_type": "code",
      "metadata": {
        "colab": {
          "base_uri": "https://localhost:8080/",
          "height": 203
        },
        "id": "UBBWFpPRn6RF",
        "outputId": "d2204360-b2da-4224-ac30-de5422b1b20c"
      },
      "source": [
        "starbucks.head(400).tail()"
      ],
      "execution_count": 20,
      "outputs": [
        {
          "output_type": "execute_result",
          "data": {
            "text/html": [
              "<div>\n",
              "<style scoped>\n",
              "    .dataframe tbody tr th:only-of-type {\n",
              "        vertical-align: middle;\n",
              "    }\n",
              "\n",
              "    .dataframe tbody tr th {\n",
              "        vertical-align: top;\n",
              "    }\n",
              "\n",
              "    .dataframe thead th {\n",
              "        text-align: right;\n",
              "    }\n",
              "</style>\n",
              "<table border=\"1\" class=\"dataframe\">\n",
              "  <thead>\n",
              "    <tr style=\"text-align: right;\">\n",
              "      <th></th>\n",
              "      <th>상호명</th>\n",
              "      <th>지점명</th>\n",
              "      <th>시도명</th>\n",
              "      <th>시군구명</th>\n",
              "      <th>도로명주소</th>\n",
              "    </tr>\n",
              "  </thead>\n",
              "  <tbody>\n",
              "    <tr>\n",
              "      <th>114670</th>\n",
              "      <td>스타벅스</td>\n",
              "      <td>여의도일신점</td>\n",
              "      <td>서울특별시</td>\n",
              "      <td>영등포구</td>\n",
              "      <td>서울특별시 영등포구 은행로 11</td>\n",
              "    </tr>\n",
              "    <tr>\n",
              "      <th>114993</th>\n",
              "      <td>스타벅스커피여의도IFC1F</td>\n",
              "      <td>NaN</td>\n",
              "      <td>서울특별시</td>\n",
              "      <td>영등포구</td>\n",
              "      <td>서울특별시 영등포구 국제금융로 10</td>\n",
              "    </tr>\n",
              "    <tr>\n",
              "      <th>115692</th>\n",
              "      <td>스타벅스</td>\n",
              "      <td>보라매타운점</td>\n",
              "      <td>서울특별시</td>\n",
              "      <td>동작구</td>\n",
              "      <td>서울특별시 동작구 보라매로5길 43</td>\n",
              "    </tr>\n",
              "    <tr>\n",
              "      <th>116337</th>\n",
              "      <td>스타벅스</td>\n",
              "      <td>명동남산</td>\n",
              "      <td>서울특별시</td>\n",
              "      <td>중구</td>\n",
              "      <td>서울특별시 중구 퇴계로 132</td>\n",
              "    </tr>\n",
              "    <tr>\n",
              "      <th>118085</th>\n",
              "      <td>스타벅스</td>\n",
              "      <td>서울대치과병원점</td>\n",
              "      <td>서울특별시</td>\n",
              "      <td>종로구</td>\n",
              "      <td>서울특별시 종로구 대학로 101</td>\n",
              "    </tr>\n",
              "  </tbody>\n",
              "</table>\n",
              "</div>"
            ],
            "text/plain": [
              "                   상호명       지점명    시도명  시군구명                도로명주소\n",
              "114670            스타벅스    여의도일신점  서울특별시  영등포구    서울특별시 영등포구 은행로 11\n",
              "114993  스타벅스커피여의도IFC1F       NaN  서울특별시  영등포구  서울특별시 영등포구 국제금융로 10\n",
              "115692            스타벅스    보라매타운점  서울특별시   동작구  서울특별시 동작구 보라매로5길 43\n",
              "116337            스타벅스      명동남산  서울특별시    중구     서울특별시 중구 퇴계로 132\n",
              "118085            스타벅스  서울대치과병원점  서울특별시   종로구    서울특별시 종로구 대학로 101"
            ]
          },
          "metadata": {},
          "execution_count": 20
        }
      ]
    },
    {
      "cell_type": "code",
      "metadata": {
        "colab": {
          "base_uri": "https://localhost:8080/"
        },
        "id": "ouTG8cSEoBqq",
        "outputId": "38944693-2e96-46c6-9d3b-86f146229b41"
      },
      "source": [
        "len(starbucks), len(coffeebean), len(ediya), len(paik)"
      ],
      "execution_count": 21,
      "outputs": [
        {
          "output_type": "execute_result",
          "data": {
            "text/plain": [
              "(1547, 293, 2120, 609)"
            ]
          },
          "metadata": {},
          "execution_count": 21
        }
      ]
    },
    {
      "cell_type": "code",
      "metadata": {
        "id": "xckte-SjoP_a"
      },
      "source": [
        "result_dir = '/content/mnt/MyDrive/results/CoffeeIndex'"
      ],
      "execution_count": 22,
      "outputs": []
    },
    {
      "cell_type": "code",
      "metadata": {
        "id": "guc9Wj5ooWjz"
      },
      "source": [
        "!mkdir -p $result_dir"
      ],
      "execution_count": 23,
      "outputs": []
    },
    {
      "cell_type": "code",
      "metadata": {
        "id": "_3VYyNVKoZQI"
      },
      "source": [
        "starbucks.to_csv(f'{result_dir}/스타벅스.csv', index=False)\n",
        "coffeebean.to_csv(f'{result_dir}/커피빈.csv', index=False)\n",
        "ediya.to_csv(f'{result_dir}/이디야.csv', index=False)\n",
        "paik.to_csv(f'{result_dir}/빽다방.csv', index=False)"
      ],
      "execution_count": 24,
      "outputs": []
    },
    {
      "cell_type": "code",
      "metadata": {
        "id": "1pA9h084omtW"
      },
      "source": [
        ""
      ],
      "execution_count": null,
      "outputs": []
    }
  ]
}